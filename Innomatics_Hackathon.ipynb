{
  "nbformat": 4,
  "nbformat_minor": 0,
  "metadata": {
    "colab": {
      "provenance": []
    },
    "kernelspec": {
      "name": "python3",
      "display_name": "Python 3"
    },
    "language_info": {
      "name": "python"
    }
  },
  "cells": [
    {
      "cell_type": "markdown",
      "source": [
        "# Hackathon: Building a Movie Recommendation System"
      ],
      "metadata": {
        "id": "Vjmdh_-7c_of"
      }
    },
    {
      "cell_type": "code",
      "source": [
        "# Importing the necessary libraries\n",
        "import pandas as pd\n",
        "import numpy as np\n",
        "import seaborn as sns\n",
        "import matplotlib.pyplot as plt\n"
      ],
      "metadata": {
        "id": "hprNCV8gOuSO"
      },
      "execution_count": 1,
      "outputs": []
    },
    {
      "cell_type": "code",
      "source": [
        "movies = pd.read_csv('/content/movies.csv')\n",
        "ratings = pd.read_csv('/content/ratings.csv')\n",
        "tags = pd.read_csv('/content/tags.csv')\n",
        "links = pd.read_csv('/content/links.csv')"
      ],
      "metadata": {
        "id": "i3xxX2P6dY3-"
      },
      "execution_count": 2,
      "outputs": []
    },
    {
      "cell_type": "markdown",
      "source": [
        "### Shape of Movies Dataset"
      ],
      "metadata": {
        "id": "qqXAWQSfg90o"
      }
    },
    {
      "cell_type": "code",
      "source": [
        "movies.shape"
      ],
      "metadata": {
        "colab": {
          "base_uri": "https://localhost:8080/"
        },
        "id": "vOqKjDvgdweP",
        "outputId": "ee0eea63-934d-4478-cb8e-82530737ebe8"
      },
      "execution_count": 3,
      "outputs": [
        {
          "output_type": "execute_result",
          "data": {
            "text/plain": [
              "(9742, 3)"
            ]
          },
          "metadata": {},
          "execution_count": 3
        }
      ]
    },
    {
      "cell_type": "markdown",
      "source": [
        "### shape of ratings data"
      ],
      "metadata": {
        "id": "WaGySugUhGju"
      }
    },
    {
      "cell_type": "code",
      "source": [
        "ratings.shape"
      ],
      "metadata": {
        "colab": {
          "base_uri": "https://localhost:8080/"
        },
        "id": "_ARt3fZid3AN",
        "outputId": "08d61ac1-fd38-4c68-c965-c54327f6bde5"
      },
      "execution_count": 4,
      "outputs": [
        {
          "output_type": "execute_result",
          "data": {
            "text/plain": [
              "(100836, 4)"
            ]
          },
          "metadata": {},
          "execution_count": 4
        }
      ]
    },
    {
      "cell_type": "markdown",
      "source": [
        "### unique \"userId\" are available in \"ratings\"\n"
      ],
      "metadata": {
        "id": "3c_JVCIShL73"
      }
    },
    {
      "cell_type": "code",
      "source": [
        "ratings['userId'].nunique()\n",
        "\n",
        "#or\n",
        "# len(ratings['userId'].unique())\n"
      ],
      "metadata": {
        "colab": {
          "base_uri": "https://localhost:8080/"
        },
        "id": "Y8tyc3T7eAP1",
        "outputId": "6e248bda-9dc8-422c-b3f8-57fcd3796c0b"
      },
      "execution_count": 8,
      "outputs": [
        {
          "output_type": "execute_result",
          "data": {
            "text/plain": [
              "610"
            ]
          },
          "metadata": {},
          "execution_count": 8
        }
      ]
    },
    {
      "cell_type": "markdown",
      "source": [
        "### Which movie has recieved maximum number of user ratings\n"
      ],
      "metadata": {
        "id": "huEQbKJEhP2J"
      }
    },
    {
      "cell_type": "code",
      "source": [
        "# Merging the 2 datasets based on movieId\n",
        "merged_rm = pd.merge(ratings, movies, on='movieId')\n",
        "\n",
        "# Perform groupby to get the total ratings count\n",
        "ratings_count = merged_rm.groupby('title').size()\n",
        "\n",
        "# Sort in desc order to get the maximum number of user ratings\n",
        "ratings_count.sort_values(ascending=False).head(1)"
      ],
      "metadata": {
        "colab": {
          "base_uri": "https://localhost:8080/"
        },
        "id": "IIPdE8UxeSEd",
        "outputId": "b378fb18-767e-48be-ebc2-0fbf8fe39197"
      },
      "execution_count": 16,
      "outputs": [
        {
          "output_type": "execute_result",
          "data": {
            "text/plain": [
              "title\n",
              "Forrest Gump (1994)    329\n",
              "dtype: int64"
            ]
          },
          "metadata": {},
          "execution_count": 16
        }
      ]
    },
    {
      "cell_type": "markdown",
      "source": [
        "### Select all the correct tags submitted by users to \"Matrix, The (1999)\" movie"
      ],
      "metadata": {
        "id": "eiRLFx3ChjcP"
      }
    },
    {
      "cell_type": "code",
      "source": [
        "# Filter 'movies' for 'Matrix, The (1999)'\n",
        "matrix_movie = movies[movies['title'] == 'Matrix, The (1999)']\n",
        "\n",
        "# Merge 'matrix_movie' with 'tags'\n",
        "merged_mt = pd.merge(matrix_movie, tags, on='movieId', how='inner')\n",
        "\n",
        "# Select and display unique tags submitted by users for 'Matrix, The (1999)'\n",
        "matrix_tags = merged_mt['tag'].unique()\n",
        "\n",
        "print(f\"The tags submitted by users for 'Matrix, The (1999)' are:\")\n",
        "for tag in matrix_tags:\n",
        "    print(tag)\n"
      ],
      "metadata": {
        "colab": {
          "base_uri": "https://localhost:8080/"
        },
        "id": "2gTINQB4e0iO",
        "outputId": "82554e5c-9a9e-40c1-ef85-fa6d73a63b54"
      },
      "execution_count": 20,
      "outputs": [
        {
          "output_type": "stream",
          "name": "stdout",
          "text": [
            "The tags submitted by users for 'Matrix, The (1999)' are:\n",
            "martial arts\n",
            "sci-fi\n",
            "alternate universe\n",
            "philosophy\n",
            "post apocalyptic\n"
          ]
        }
      ]
    },
    {
      "cell_type": "markdown",
      "source": [
        "### What is the average user rating for movie named \"Terminator 2: Judgment Day (1991)"
      ],
      "metadata": {
        "id": "6tiU4fMhjNkI"
      }
    },
    {
      "cell_type": "code",
      "source": [
        "# Filter 'movies' for \"Terminator 2: Judgment Day (1991)\"\n",
        "terminator_movie = movies[movies['title'] == 'Terminator 2: Judgment Day (1991)']\n",
        "\n",
        "# Merge 'terminator_movie' with 'ratings'\n",
        "merged_tr = pd.merge(terminator_movie, ratings, on='movieId', how='inner')\n",
        "\n",
        "avg_rating = merged_tr['rating'].mean()\n",
        "avg_rating\n"
      ],
      "metadata": {
        "colab": {
          "base_uri": "https://localhost:8080/"
        },
        "id": "oZ6IBEm7hnRt",
        "outputId": "6843353a-3d00-4e8d-a5f0-c3713a194132"
      },
      "execution_count": 29,
      "outputs": [
        {
          "output_type": "execute_result",
          "data": {
            "text/plain": [
              "3.970982142857143"
            ]
          },
          "metadata": {},
          "execution_count": 29
        }
      ]
    },
    {
      "cell_type": "markdown",
      "source": [
        "### How does the data distribution of user ratings for \"Fight Club (1999)\" movie looks like"
      ],
      "metadata": {
        "id": "PbJN3psKknVq"
      }
    },
    {
      "cell_type": "code",
      "source": [
        "# Filter 'movies' for \"Fight Club (1999)\"\n",
        "fc_movie = movies[movies['title'] == 'Fight Club (1999)']\n",
        "\n",
        "# Merge 'fc_movie' with 'ratings'\n",
        "merged_fcr = pd.merge(fc_movie, ratings, on='movieId', how='inner')\n",
        "\n",
        "# distribution\n",
        "merged_fcr['rating'].plot(kind='kde')"
      ],
      "metadata": {
        "colab": {
          "base_uri": "https://localhost:8080/",
          "height": 447
        },
        "id": "kq-yRt88kTxd",
        "outputId": "064cac7b-1147-4138-880f-839ec217b541"
      },
      "execution_count": 35,
      "outputs": [
        {
          "output_type": "execute_result",
          "data": {
            "text/plain": [
              "<Axes: ylabel='Density'>"
            ]
          },
          "metadata": {},
          "execution_count": 35
        },
        {
          "output_type": "display_data",
          "data": {
            "text/plain": [
              "<Figure size 640x480 with 1 Axes>"
            ],
            "image/png": "[encoded data removed]"
          },
          "metadata": {}
        }
      ]
    },
    {
      "cell_type": "markdown",
      "source": [
        "### Which movie is the most popular based on  average user ratings\n"
      ],
      "metadata": {
        "id": "9TuhXvxCnFBR"
      }
    },
    {
      "cell_type": "code",
      "source": [
        "# Group ratings by movieId and calculate count and mean\n",
        "ratings_grouped = ratings.groupby('movieId')['rating'].agg(['count', 'mean']).reset_index()\n",
        "\n",
        "# Inner join movies and the grouped ratings dataframe\n",
        "merged_data = pd.merge(movies, ratings_grouped, on='movieId', how='inner')\n",
        "\n",
        "# Filter movies with more than 50 user ratings\n",
        "popular_movies = merged_data[merged_data['count'] > 50]\n",
        "\n",
        "# Find the movie with the highest average rating among popular movies\n",
        "most_popular_movie = popular_movies.loc[popular_movies['mean'].idxmax()]\n",
        "\n",
        "# Output the most popular movie based on average user ratings\n",
        "print(f\"The most popular movie based on average user ratings is '{most_popular_movie['title']}' with an average rating of {most_popular_movie['mean']:.2f}.\")\n"
      ],
      "metadata": {
        "colab": {
          "base_uri": "https://localhost:8080/"
        },
        "id": "5mGLHiKimJ-2",
        "outputId": "b1251a68-da12-40b5-92c4-a8e1f5aec904"
      },
      "execution_count": 40,
      "outputs": [
        {
          "output_type": "stream",
          "name": "stdout",
          "text": [
            "The most popular movie based on average user ratings is 'Shawshank Redemption, The (1994)' with an average rating of 4.43.\n"
          ]
        }
      ]
    },
    {
      "cell_type": "markdown",
      "source": [
        "### 5 popular movies based on number of user ratings."
      ],
      "metadata": {
        "id": "0AXJv1LhoZVq"
      }
    },
    {
      "cell_type": "code",
      "source": [
        "# Group ratings by movieId and calculate count of ratings\n",
        "ratings_count = ratings.groupby('movieId')['rating'].count().reset_index()\n",
        "\n",
        "# Merge movies with ratings count\n",
        "merged_data = pd.merge(movies, ratings_count, on='movieId', how='inner')\n",
        "\n",
        "# Rename the columns for clarity\n",
        "merged_data.rename(columns={'rating': 'rating_count'}, inplace=True)\n",
        "\n",
        "# Sort movies by rating count in descending order\n",
        "sorted_movies = merged_data.sort_values(by='rating_count', ascending=False)\n",
        "\n",
        "# Get the top 5 popular movies based on number of user ratings\n",
        "top_5_popular_movies = sorted_movies.head(5)\n",
        "\n",
        "# Display top 5 popular movies\n",
        "print(top_5_popular_movies[['title', 'rating_count']])\n"
      ],
      "metadata": {
        "colab": {
          "base_uri": "https://localhost:8080/"
        },
        "id": "7hETYeQJnmUu",
        "outputId": "0e7ef387-2035-4054-f8db-cf92f011f6a9"
      },
      "execution_count": 42,
      "outputs": [
        {
          "output_type": "stream",
          "name": "stdout",
          "text": [
            "                                 title  rating_count\n",
            "314                Forrest Gump (1994)           329\n",
            "277   Shawshank Redemption, The (1994)           317\n",
            "257                Pulp Fiction (1994)           307\n",
            "510   Silence of the Lambs, The (1991)           279\n",
            "1938                Matrix, The (1999)           278\n"
          ]
        }
      ]
    },
    {
      "cell_type": "markdown",
      "source": [
        "### Which Sci-Fi movie is \"third most popular\" based on the number of user ratings?"
      ],
      "metadata": {
        "id": "B2r5y7_To8ln"
      }
    },
    {
      "cell_type": "code",
      "source": [
        "# Filter movies dataset for Sci-Fi genre\n",
        "sci_fi_movies = movies[movies['genres'].str.contains('Sci-Fi')]\n",
        "\n",
        "# Group ratings by movieId and count the number of ratings\n",
        "ratings_count = ratings.groupby('movieId')['rating'].count().reset_index()\n",
        "\n",
        "# Merge Sci-Fi movies with ratings count\n",
        "merged_data = pd.merge(sci_fi_movies, ratings_count, on='movieId', how='inner')\n",
        "\n",
        "# Rename the columns for clarity\n",
        "merged_data.rename(columns={'rating': 'rating_count'}, inplace=True)\n",
        "\n",
        "# Sort Sci-Fi movies by rating count in descending order\n",
        "sorted_sci_fi_movies = merged_data.sort_values(by='rating_count', ascending=False)\n",
        "\n",
        "# Get the third most popular Sci-Fi movie based on number of user ratings\n",
        "third_most_popular_sci_fi_movie = sorted_sci_fi_movies.iloc[2]  # Index starts from 0\n",
        "\n",
        "# Display the third most popular Sci-Fi movie\n",
        "print(f\"The third most popular Sci-Fi movie based on the number of user ratings is '{third_most_popular_sci_fi_movie['title']}' with {third_most_popular_sci_fi_movie['rating_count']} ratings.\")\n"
      ],
      "metadata": {
        "colab": {
          "base_uri": "https://localhost:8080/"
        },
        "id": "MoQTPVzhoJz9",
        "outputId": "c9d63e54-7b7b-4cf3-bc2d-eefa5c6c116e"
      },
      "execution_count": 43,
      "outputs": [
        {
          "output_type": "stream",
          "name": "stdout",
          "text": [
            "The third most popular Sci-Fi movie based on the number of user ratings is 'Jurassic Park (1993)' with 238 ratings.\n"
          ]
        }
      ]
    },
    {
      "cell_type": "markdown",
      "source": [
        "### Mention the movieId of the movie which has the highest IMDB rating."
      ],
      "metadata": {
        "id": "IIB4XargIb7G"
      }
    },
    {
      "cell_type": "code",
      "source": [
        "links = pd.read_csv('/content/links.csv')\n",
        "highest_rm = links.loc[links['imdbId'].idxmax()]\n",
        "\n",
        "print(\"Movie with the Highest IMDB Rating: \")\n",
        "print(highest_rm[['movieId', 'imdbId']])"
      ],
      "metadata": {
        "colab": {
          "base_uri": "https://localhost:8080/"
        },
        "id": "367xpOkSpF10",
        "outputId": "e14297a8-51b6-4f32-934f-bf4f77a40810"
      },
      "execution_count": 55,
      "outputs": [
        {
          "output_type": "stream",
          "name": "stdout",
          "text": [
            "Movie with the Highest IMDB Rating: \n",
            "movieId     193587.0\n",
            "imdbId     8391976.0\n",
            "Name: 9740, dtype: float64\n"
          ]
        }
      ]
    },
    {
      "cell_type": "markdown",
      "source": [
        "### Mention the movieId of the \"Sci-Fi\" movie which has the highest IMDB rating."
      ],
      "metadata": {
        "id": "60CdE3JYJSFI"
      }
    },
    {
      "cell_type": "code",
      "source": [
        "# Merge the movies and ratings dataset\n",
        "merged_data = pd.merge(links, movies, on='movieId', how='inner')\n",
        "\n",
        "# Filtering the rows where genres contains the sci fi\n",
        "sci_fi_movies = merged_data[merged_data['genres'].str.contains('Sci-Fi')]\n",
        "\n",
        "# Finding the highest rated sci-fi movie\n",
        "highest_rated_sci_fi_movie = sci_fi_movies.loc[sci_fi_movies['imdbId'].idxmax()]\n",
        "\n",
        "print(\"The Sci-Fi movie with the highest IMDb rating: \", highest_rated_sci_fi_movie['movieId'])"
      ],
      "metadata": {
        "colab": {
          "base_uri": "https://localhost:8080/"
        },
        "id": "FWIvf57VDIIU",
        "outputId": "92894811-8d99-4eec-9713-7344538a4b67"
      },
      "execution_count": 57,
      "outputs": [
        {
          "output_type": "stream",
          "name": "stdout",
          "text": [
            "The Sci-Fi movie with the highest IMDb rating:  179053\n"
          ]
        }
      ]
    }
  ]
}